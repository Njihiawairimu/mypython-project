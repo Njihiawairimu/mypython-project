{
 "cells": [
  {
   "cell_type": "code",
   "execution_count": 2,
   "id": "4a669b49",
   "metadata": {},
   "outputs": [
    {
     "name": "stdout",
     "output_type": "stream",
     "text": [
      "Requirement already satisfied: requests in /home/n1mun0va/anaconda3/lib/python3.12/site-packages (2.32.3)\n",
      "Requirement already satisfied: bs4 in /home/n1mun0va/anaconda3/lib/python3.12/site-packages (0.0.2)\n",
      "Requirement already satisfied: pandas in /home/n1mun0va/anaconda3/lib/python3.12/site-packages (2.2.2)\n",
      "Requirement already satisfied: charset-normalizer<4,>=2 in /home/n1mun0va/anaconda3/lib/python3.12/site-packages (from requests) (3.3.2)\n",
      "Requirement already satisfied: idna<4,>=2.5 in /home/n1mun0va/anaconda3/lib/python3.12/site-packages (from requests) (3.7)\n",
      "Requirement already satisfied: urllib3<3,>=1.21.1 in /home/n1mun0va/anaconda3/lib/python3.12/site-packages (from requests) (2.2.3)\n",
      "Requirement already satisfied: certifi>=2017.4.17 in /home/n1mun0va/anaconda3/lib/python3.12/site-packages (from requests) (2024.8.30)\n",
      "Requirement already satisfied: beautifulsoup4 in /home/n1mun0va/anaconda3/lib/python3.12/site-packages (from bs4) (4.12.3)\n",
      "Requirement already satisfied: numpy>=1.26.0 in /home/n1mun0va/anaconda3/lib/python3.12/site-packages (from pandas) (1.26.4)\n",
      "Requirement already satisfied: python-dateutil>=2.8.2 in /home/n1mun0va/anaconda3/lib/python3.12/site-packages (from pandas) (2.9.0.post0)\n",
      "Requirement already satisfied: pytz>=2020.1 in /home/n1mun0va/anaconda3/lib/python3.12/site-packages (from pandas) (2024.1)\n",
      "Requirement already satisfied: tzdata>=2022.7 in /home/n1mun0va/anaconda3/lib/python3.12/site-packages (from pandas) (2023.3)\n",
      "Requirement already satisfied: six>=1.5 in /home/n1mun0va/anaconda3/lib/python3.12/site-packages (from python-dateutil>=2.8.2->pandas) (1.16.0)\n",
      "Requirement already satisfied: soupsieve>1.2 in /home/n1mun0va/anaconda3/lib/python3.12/site-packages (from beautifulsoup4->bs4) (2.5)\n",
      "Note: you may need to restart the kernel to use updated packages.\n"
     ]
    }
   ],
   "source": [
    "pip install requests bs4 pandas\n"
   ]
  },
  {
   "cell_type": "code",
   "execution_count": 2,
   "id": "269a22ce",
   "metadata": {},
   "outputs": [],
   "source": [
    "import requests #send http request\n",
    "import pandas as pd #data manipulation -send data to db\n",
    "from bs4 import BeautifulSoup #htmlparser"
   ]
  },
  {
   "cell_type": "code",
   "execution_count": null,
   "id": "674077ed",
   "metadata": {},
   "outputs": [],
   "source": [
    "function = scrape_pages(start_page, end_page)\n",
    "\n",
    "base_url = 'https://www.buyrentkenya.com/houses-for-sale'\n",
    "\n",
    "headers = {'User-Agent': 'Mozilla/5.0 (Windows NT 10.0; Win64; x64) AppleWebKit/537.36 (KHTML, like Gecko) Chrome/58.0.3029.110 Safari/537.3'}"
   ]
  },
  {
   "cell_type": "code",
   "execution_count": 18,
   "id": "55a91461",
   "metadata": {},
   "outputs": [],
   "source": [
    "def scrape_pages(start_page, end_page):\n",
    "                 base_url = 'https://www.buyrentkenya.com/houses-for-sale'\n",
    "                 headers = {'User-Agent': 'Mozilla/5.0 (Windows NT 10.0; Win64; x64) AppleWebKit/537.36 (KHTML, like Gecko) Chrome/58.0.3029.110 Safari/537.3'\n",
    "                           }\n",
    "                 properties = []\n",
    "                 for page_num in range(start_page, end_page + 1):\n",
    "                         url = f'{base_url}?page={page_num}'\n",
    "                         print(f\"Scraping page {page_num}: {url}\")\n",
    "                         response = requests.get(url,headers=headers)\n",
    "                         if response.status_code != 200:\n",
    "                          print(f\"Failed.Status code: {response.status_code}\")\n",
    "                         continue\n",
    "                 \n",
    "\n",
    "                 soup = BeautifulSoup(response.content, 'html.parser')\n",
    "\n",
    "                 listings = soup.find_all('div', class_='listing-card')\n",
    "\n",
    "                 for listing in listings:\n",
    "                        \n",
    "                        #title\n",
    "                        title_tag = listing.find('h2')\n",
    "                        title = title_tag.get_text(strip=True) if title_tag else \"No title\"                        \n",
    "                        #price\n",
    "                        price_tag = listing.find('p',class_='text-x1 font-bold leading-7 text-grey-900')\n",
    "                        price = price_tag.get.text(strip=True) if price_tag else \"No price\"\n",
    "\n",
    "                        #location\n",
    "                        location_tag = listing.find('p', class_='ml-1 truncate text-sm font-normal capitlize text-grey-650')\n",
    "                        location = location_tag.get_text(strip=True) if location_tag else \"No location\"\n",
    "\n",
    "                        #bedrooms,bathrooms,size\n",
    "                        swiper_div = listing.find('div',class_='scrollable-list')\n",
    "                        bedrooms = bathrooms = size = 'N/A'\n",
    "\n",
    "                        if swiper_div:\n",
    "                                slides = swiper_div.find_all('div', class_='swiper-slide')\n",
    "                                for slide in slides:\n",
    "                                 text = slide.get_text(strip=True)\n",
    "                                if 'Bedroom' in text:\n",
    "                                        bedrooms = text\n",
    "                                elif 'Bathroom' in text:\n",
    "                                        bathrooms = text\n",
    "                                    \n",
    "                                elif 'm²' in text:\n",
    "                                        size = text\n",
    "\n",
    "\n",
    "\n",
    "\n",
    "                    \n",
    "                        #append\n",
    "                        properties.append\n",
    "                        ({'Title': title,\n",
    "                          'Price': price,\n",
    "                          'Location': location,\n",
    "                          'Bedrooms': bedrooms,\n",
    "                          'Bathrooms': bathrooms,\n",
    "                          'Size': size\n",
    "                          })\n",
    "\n"
   ]
  },
  {
   "cell_type": "code",
   "execution_count": 20,
   "id": "e1448c13",
   "metadata": {},
   "outputs": [
    {
     "name": "stdout",
     "output_type": "stream",
     "text": [
      "Scraping page 2: https://www.buyrentkenya.com/houses-for-sale?page=2\n",
      "Scraping page 3: https://www.buyrentkenya.com/houses-for-sale?page=3\n",
      "Scraping page 4: https://www.buyrentkenya.com/houses-for-sale?page=4\n",
      "Scraping page 5: https://www.buyrentkenya.com/houses-for-sale?page=5\n",
      "Scraping page 6: https://www.buyrentkenya.com/houses-for-sale?page=6\n",
      "Scraping page 7: https://www.buyrentkenya.com/houses-for-sale?page=7\n"
     ]
    }
   ],
   "source": [
    "df =scrape_pages(start_page=2, end_page=7)"
   ]
  }
 ],
 "metadata": {
  "kernelspec": {
   "display_name": "base",
   "language": "python",
   "name": "python3"
  },
  "language_info": {
   "codemirror_mode": {
    "name": "ipython",
    "version": 3
   },
   "file_extension": ".py",
   "mimetype": "text/x-python",
   "name": "python",
   "nbconvert_exporter": "python",
   "pygments_lexer": "ipython3",
   "version": "3.12.7"
  }
 },
 "nbformat": 4,
 "nbformat_minor": 5
}
